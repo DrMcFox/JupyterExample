{
 "cells": [
  {
   "cell_type": "markdown",
   "metadata": {},
   "source": [
    "# CMS3504 - Week 02 Lab Exercises Part A: Python Data Structures\n",
    "\n",
    "If you are not familiar with Python, you should navigate through the following examples before attempting the Python.\n",
    "Please note, the examples are not an exhaustive demonstration of lists, tuples and dictionaries.\n",
    "For more detailed explanation, you should consult the followings:\n",
    "\n",
    "`Lists`: https://docs.python.org/3/tutorial/datastructures.html\n",
    "`Tuples`: https://docs.python.org/3/tutorial/datastructures.html#tuples-and-sequences\n",
    "`Dictionaries`: https://docs.python.org/3/tutorial/datastructures.html#dictionaries"
   ]
  },
  {
   "cell_type": "markdown",
   "metadata": {},
   "source": [
    "## Example 1: Python Tuples\n",
    "\n",
    "A. Create a tuple, elements are enclosed in a pair of round brackets ()"
   ]
  },
  {
   "cell_type": "code",
   "execution_count": null,
   "metadata": {},
   "outputs": [],
   "source": [
    "#declare a tuple\n",
    "tuple_a = (1,2,3,4,5,6,7,8,9,10)\n",
    "\n",
    "#display the values of a tuple\n",
    "print(tuple_a)"
   ]
  },
  {
   "cell_type": "markdown",
   "metadata": {},
   "source": [
    "B. Tuple elements can be accessed using 0-based index."
   ]
  },
  {
   "cell_type": "code",
   "execution_count": null,
   "metadata": {},
   "outputs": [],
   "source": [
    "#create a new tuple using all the odd-indexed element from tuple_a\n",
    "even = (tuple_a[1], tuple_a[3], tuple_a[5], tuple_a[7], tuple_a[9])\n",
    "print(even)"
   ]
  },
  {
   "cell_type": "markdown",
   "metadata": {},
   "source": [
    "C. Once created, value of a tuple cannot be modified."
   ]
  },
  {
   "cell_type": "code",
   "execution_count": null,
   "metadata": {},
   "outputs": [],
   "source": [
    "#attempt to change the value of a tuple\n",
    "even[1] = 3"
   ]
  },
  {
   "cell_type": "markdown",
   "metadata": {},
   "source": [
    "D. The function 'len' can be used to query the number of element in a given tuple"
   ]
  },
  {
   "cell_type": "code",
   "execution_count": null,
   "metadata": {},
   "outputs": [],
   "source": [
    "#checking the number of element in a tuple using the function len\n",
    "tuplesize = len(tuple_a)\n",
    "print(tuplesize)"
   ]
  },
  {
   "cell_type": "markdown",
   "metadata": {},
   "source": [
    "E. The function 'type' can be used to check the data type of a variable in python"
   ]
  },
  {
   "cell_type": "code",
   "execution_count": null,
   "metadata": {},
   "outputs": [],
   "source": [
    "#this displays the data type of tuple_a, i.e. tuple\n",
    "type(tuple_a)"
   ]
  },
  {
   "cell_type": "markdown",
   "metadata": {},
   "source": [
    "F. Elements in a tuple can be enumerated using loop. N.B. The code below also serves as an introduction to loops in python. You will use loops in some of the exercise tasks today.\n",
    "\n",
    "For more details, please refer to:\n",
    "`for` loops: https://docs.python.org/3/tutorial/controlflow.html#for-statements\n",
    "`if` statements: https://docs.python.org/3/tutorial/controlflow.html#if-statements"
   ]
  },
  {
   "cell_type": "code",
   "execution_count": null,
   "metadata": {},
   "outputs": [],
   "source": [
    "#enumerate and display even elements using a for loop, method 1 - in collection based\n",
    "for t in tuple_a :\n",
    "    if t % 2 == 0:\n",
    "        print(t)"
   ]
  },
  {
   "cell_type": "code",
   "execution_count": null,
   "metadata": {},
   "outputs": [],
   "source": [
    "#enumerate and display odd elements using a while loop, method 2 - index based\n",
    "index = 0\n",
    "while index < len(tuple_a):\n",
    "    if tuple_a[index] % 2 != 0:\n",
    "        print(tuple_a[index])\n",
    "    index = index + 1"
   ]
  },
  {
   "cell_type": "markdown",
   "metadata": {},
   "source": [
    "G. Use the function getsizeof from sys to get the memory size of an object in python. This is useful when we want to know how much memory a data instance or data collection use."
   ]
  },
  {
   "cell_type": "code",
   "execution_count": null,
   "metadata": {},
   "outputs": [],
   "source": [
    "import sys #first import the sys package\n",
    "\n",
    "#getsizeof returns the memory size of an object in bytes\n",
    "sys.getsizeof(tuple_a)"
   ]
  },
  {
   "cell_type": "markdown",
   "metadata": {},
   "source": [
    "H. A tuple can contain elements of mixed data types."
   ]
  },
  {
   "cell_type": "code",
   "execution_count": null,
   "metadata": {},
   "outputs": [],
   "source": [
    "#a tuple repesenting a car, maker, model, reg, engine size and year\n",
    "car = (\"BMW\", \"X5\", \"YC19 BLAH\", 4.0, 2019)\n",
    "print(car)\n",
    "print(type(car[0]))\n",
    "print(type(car[3]))"
   ]
  },
  {
   "cell_type": "markdown",
   "metadata": {},
   "source": [
    "## Example 2: Python Lists\n",
    "\n",
    "Python lists are largely similar to tuples. However, lists in Python are mutable, i.e. values can be added/removed/updated after creation."
   ]
  },
  {
   "cell_type": "markdown",
   "metadata": {},
   "source": [
    "A. Create a list, note values inside a list are enclosed by a pair of square brackets []"
   ]
  },
  {
   "cell_type": "code",
   "execution_count": null,
   "metadata": {},
   "outputs": [],
   "source": [
    "list_a = [1,2,3,4,5,6,7,8,9,10]\n",
    "print(list_a)\n",
    "\n",
    "even = [list_a[1], list_a[3], list_a[5], list_a[7], list_a[9]]\n",
    "print(even)"
   ]
  },
  {
   "cell_type": "markdown",
   "metadata": {},
   "source": [
    "B. Value can be changed."
   ]
  },
  {
   "cell_type": "code",
   "execution_count": null,
   "metadata": {},
   "outputs": [],
   "source": [
    "#attempt to change the value of a tuple\n",
    "even[1] = 3\n",
    "print(even)\n",
    "\n",
    "#remove value 3 from the list\n",
    "even.remove(3)\n",
    "print(even)"
   ]
  },
  {
   "cell_type": "markdown",
   "metadata": {},
   "source": [
    "C. Due to the flexibility of lists, they normally use more memory compared to tuples."
   ]
  },
  {
   "cell_type": "code",
   "execution_count": null,
   "metadata": {},
   "outputs": [],
   "source": [
    "import sys\n",
    "\n",
    "tuple_a = (1,2,3,4,5,6,7,8,9,10)\n",
    "list_a = [1,2,3,4,5,6,7,8,9,10]\n",
    "\n",
    "print(\"Memory size of tuple_a is \", sys.getsizeof(tuple_a))\n",
    "print(\"Memory size of list_a is \", sys.getsizeof(list_a))"
   ]
  },
  {
   "cell_type": "markdown",
   "metadata": {},
   "source": [
    "D. Lists can be multidimensional, e.g. a 2D list can be regarded to as a table."
   ]
  },
  {
   "cell_type": "code",
   "execution_count": null,
   "metadata": {},
   "outputs": [],
   "source": [
    "#the following is a table consist of two cars stored using a 2D list\n",
    "carlist = [[\"BMW\", \"X5\", \"YC19 BLAH\", 4.0, 2019],\n",
    "           [\"BMW\", \"Z4\", \"YC18 FOO\", 4.2, 2018]]\n",
    "print(carlist)\n",
    "\n",
    "#print car one\n",
    "print(carlist[0])\n",
    "\n",
    "#print the reg of car one\n",
    "print(carlist[0][2])"
   ]
  },
  {
   "cell_type": "markdown",
   "metadata": {},
   "source": [
    "## Example 3: Python Dictionaries\n",
    "\n",
    "A dictionary in Python is an implementation of the key-value pair datastore model."
   ]
  },
  {
   "cell_type": "markdown",
   "metadata": {},
   "source": [
    "A. Create a dictionary, note key-value pairs inside a dictionary are enclosed by braces {}"
   ]
  },
  {
   "cell_type": "code",
   "execution_count": null,
   "metadata": {},
   "outputs": [],
   "source": [
    "#create a dictionary in python\n",
    "cardict = {'maker':'BMW', 'model':'X5', 'reg':'YC19 BLAH', 'engine':4.0, 'year':2015}\n",
    "print(cardict)\n",
    "print(type(cardict))"
   ]
  },
  {
   "cell_type": "markdown",
   "metadata": {},
   "source": [
    "B. Values are accessed via keys rather than integer indices."
   ]
  },
  {
   "cell_type": "code",
   "execution_count": null,
   "metadata": {},
   "outputs": [],
   "source": [
    "#access the maker of the car\n",
    "print(cardict['maker'])\n",
    "\n",
    "#access the year of manufacture\n",
    "print(cardict['year'])"
   ]
  },
  {
   "cell_type": "markdown",
   "metadata": {},
   "source": [
    "C. The value associated with a key can be a list or other collection type."
   ]
  },
  {
   "cell_type": "code",
   "execution_count": null,
   "metadata": {},
   "outputs": [],
   "source": [
    "# a slightly more complex dictionary\n",
    "# each key is associated with a list of values\n",
    "cars_dict = {\n",
    "    'maker':['BMW', 'BMW', 'FIAT','Honda'],\n",
    "    'model':['X5','Z4','500X','Civic'],\n",
    "    'reg':['YC19 BLAH','YC18 FOO','FN16 ZFF','DE66 BLU'],\n",
    "    'engine':[4.0, 4.1, 1.6, 2.0],\n",
    "    'year': [2019, 2018, 2016, 2017]\n",
    "}\n",
    "\n",
    "print(cars_dict)"
   ]
  },
  {
   "cell_type": "markdown",
   "metadata": {},
   "source": [
    "D. List all the keys and values of a given dictionary."
   ]
  },
  {
   "cell_type": "code",
   "execution_count": null,
   "metadata": {},
   "outputs": [],
   "source": [
    "#use the keys method to obtain all the keys\n",
    "print(cars_dict.keys())\n",
    "\n",
    "#use the values method to botain all the values\n",
    "#note: values actually returns the values as a 2D list\n",
    "print(cars_dict.values())"
   ]
  },
  {
   "cell_type": "markdown",
   "metadata": {},
   "source": [
    "## Exercises\n",
    "\n",
    "In this exercise, you are required to manually a datastore for the following table the structures introduced here.\n",
    "\n",
    "|Maker | Model | Reg | Engine | Postcode | Year |\n",
    "|---|---|---|---|---|---|\n",
    "|BMW|X5|YC19 BLAH|4.0|HD8|2019|\n",
    "|BMW|Z4|YC18 FOO|4.2|MA1|2018|\n",
    "|FIAT|500X|FN16 ZFF|1.6|DE22|2016|\n",
    "|Honda|Civic|DE66 BLU|2.0|SE10|2017|\n",
    "\n",
    "Table 1.\n"
   ]
  },
  {
   "cell_type": "markdown",
   "metadata": {},
   "source": [
    "__Task 1:__ Use a combination of tuple and list to store the data in the table 1. You should represent each car using a tuple and the collection of cars using a list."
   ]
  },
  {
   "cell_type": "code",
   "execution_count": null,
   "metadata": {},
   "outputs": [],
   "source": []
  },
  {
   "cell_type": "markdown",
   "metadata": {},
   "source": [
    "__Task 2:__ Use dictionary to create a column-oriented datastore, i.e. each column is associated with a key as labeled in the table heading."
   ]
  },
  {
   "cell_type": "code",
   "execution_count": null,
   "metadata": {},
   "outputs": [],
   "source": []
  },
  {
   "cell_type": "markdown",
   "metadata": {},
   "source": [
    "__Task 3:__ Use a 2D list only to create a datastore for table 1."
   ]
  },
  {
   "cell_type": "code",
   "execution_count": null,
   "metadata": {},
   "outputs": [],
   "source": []
  },
  {
   "cell_type": "markdown",
   "metadata": {},
   "source": [
    "__Task 4:__ Write a loop to print the data from each of the datastores created in the previous tasks. Note: each printed line must contain only one car. "
   ]
  },
  {
   "cell_type": "code",
   "execution_count": null,
   "metadata": {},
   "outputs": [],
   "source": []
  },
  {
   "cell_type": "markdown",
   "metadata": {},
   "source": [
    "__Task 5:__ Use the sys.getsizeof method to evaluate the memory size of the three datastores you just created. Which one uses the least memory and which uses the most?"
   ]
  },
  {
   "cell_type": "code",
   "execution_count": null,
   "metadata": {},
   "outputs": [],
   "source": []
  }
 ],
 "metadata": {
  "kernelspec": {
   "display_name": "Python 3",
   "language": "python",
   "name": "python3"
  },
  "language_info": {
   "codemirror_mode": {
    "name": "ipython",
    "version": 3
   },
   "file_extension": ".py",
   "mimetype": "text/x-python",
   "name": "python",
   "nbconvert_exporter": "python",
   "pygments_lexer": "ipython3",
   "version": "3.5.2"
  }
 },
 "nbformat": 4,
 "nbformat_minor": 2
}
